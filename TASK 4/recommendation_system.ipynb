{
  "cells": [
    {
      "cell_type": "markdown",
      "id": "898d53d7-f077-4a7b-8603-3dec465900c4",
      "metadata": {
        "id": "898d53d7-f077-4a7b-8603-3dec465900c4"
      },
      "source": [
        "# Importing the dependencies"
      ]
    },
    {
      "cell_type": "code",
      "execution_count": 1,
      "id": "5538586f-e10b-4ce0-bfc3-c7ba2ed069ba",
      "metadata": {
        "id": "5538586f-e10b-4ce0-bfc3-c7ba2ed069ba"
      },
      "outputs": [],
      "source": [
        "import numpy as np\n",
        "import pandas as pd\n",
        "import difflib\n",
        "from sklearn.feature_extraction.text import TfidfVectorizer\n",
        "from sklearn.metrics.pairwise import cosine_similarity"
      ]
    },
    {
      "cell_type": "markdown",
      "id": "a4f771f2-db77-49d7-9f6c-471441441370",
      "metadata": {
        "id": "a4f771f2-db77-49d7-9f6c-471441441370"
      },
      "source": [
        "# Data Collection and Processing"
      ]
    },
    {
      "cell_type": "code",
      "execution_count": 2,
      "id": "2e22e4df-0daf-4e30-afab-0b617c3252e7",
      "metadata": {
        "colab": {
          "base_uri": "https://localhost:8080/",
          "height": 287
        },
        "id": "2e22e4df-0daf-4e30-afab-0b617c3252e7",
        "outputId": "574b0aba-d576-4315-b3b0-7a5192278620"
      },
      "outputs": [
        {
          "output_type": "error",
          "ename": "FileNotFoundError",
          "evalue": "[Errno 2] No such file or directory: 'movies.csv'",
          "traceback": [
            "\u001b[0;31m---------------------------------------------------------------------------\u001b[0m",
            "\u001b[0;31mFileNotFoundError\u001b[0m                         Traceback (most recent call last)",
            "\u001b[0;32m<ipython-input-2-614afa1bc4a0>\u001b[0m in \u001b[0;36m<cell line: 1>\u001b[0;34m()\u001b[0m\n\u001b[0;32m----> 1\u001b[0;31m \u001b[0mmovies_data\u001b[0m \u001b[0;34m=\u001b[0m \u001b[0mpd\u001b[0m\u001b[0;34m.\u001b[0m\u001b[0mread_csv\u001b[0m\u001b[0;34m(\u001b[0m\u001b[0;34m'movies.csv'\u001b[0m\u001b[0;34m,\u001b[0m\u001b[0mencoding\u001b[0m \u001b[0;34m=\u001b[0m \u001b[0;34m'latin1'\u001b[0m\u001b[0;34m)\u001b[0m\u001b[0;34m\u001b[0m\u001b[0;34m\u001b[0m\u001b[0m\n\u001b[0m",
            "\u001b[0;32m/usr/local/lib/python3.10/dist-packages/pandas/io/parsers/readers.py\u001b[0m in \u001b[0;36mread_csv\u001b[0;34m(filepath_or_buffer, sep, delimiter, header, names, index_col, usecols, dtype, engine, converters, true_values, false_values, skipinitialspace, skiprows, skipfooter, nrows, na_values, keep_default_na, na_filter, verbose, skip_blank_lines, parse_dates, infer_datetime_format, keep_date_col, date_parser, date_format, dayfirst, cache_dates, iterator, chunksize, compression, thousands, decimal, lineterminator, quotechar, quoting, doublequote, escapechar, comment, encoding, encoding_errors, dialect, on_bad_lines, delim_whitespace, low_memory, memory_map, float_precision, storage_options, dtype_backend)\u001b[0m\n\u001b[1;32m    910\u001b[0m     \u001b[0mkwds\u001b[0m\u001b[0;34m.\u001b[0m\u001b[0mupdate\u001b[0m\u001b[0;34m(\u001b[0m\u001b[0mkwds_defaults\u001b[0m\u001b[0;34m)\u001b[0m\u001b[0;34m\u001b[0m\u001b[0;34m\u001b[0m\u001b[0m\n\u001b[1;32m    911\u001b[0m \u001b[0;34m\u001b[0m\u001b[0m\n\u001b[0;32m--> 912\u001b[0;31m     \u001b[0;32mreturn\u001b[0m \u001b[0m_read\u001b[0m\u001b[0;34m(\u001b[0m\u001b[0mfilepath_or_buffer\u001b[0m\u001b[0;34m,\u001b[0m \u001b[0mkwds\u001b[0m\u001b[0;34m)\u001b[0m\u001b[0;34m\u001b[0m\u001b[0;34m\u001b[0m\u001b[0m\n\u001b[0m\u001b[1;32m    913\u001b[0m \u001b[0;34m\u001b[0m\u001b[0m\n\u001b[1;32m    914\u001b[0m \u001b[0;34m\u001b[0m\u001b[0m\n",
            "\u001b[0;32m/usr/local/lib/python3.10/dist-packages/pandas/io/parsers/readers.py\u001b[0m in \u001b[0;36m_read\u001b[0;34m(filepath_or_buffer, kwds)\u001b[0m\n\u001b[1;32m    575\u001b[0m \u001b[0;34m\u001b[0m\u001b[0m\n\u001b[1;32m    576\u001b[0m     \u001b[0;31m# Create the parser.\u001b[0m\u001b[0;34m\u001b[0m\u001b[0;34m\u001b[0m\u001b[0m\n\u001b[0;32m--> 577\u001b[0;31m     \u001b[0mparser\u001b[0m \u001b[0;34m=\u001b[0m \u001b[0mTextFileReader\u001b[0m\u001b[0;34m(\u001b[0m\u001b[0mfilepath_or_buffer\u001b[0m\u001b[0;34m,\u001b[0m \u001b[0;34m**\u001b[0m\u001b[0mkwds\u001b[0m\u001b[0;34m)\u001b[0m\u001b[0;34m\u001b[0m\u001b[0;34m\u001b[0m\u001b[0m\n\u001b[0m\u001b[1;32m    578\u001b[0m \u001b[0;34m\u001b[0m\u001b[0m\n\u001b[1;32m    579\u001b[0m     \u001b[0;32mif\u001b[0m \u001b[0mchunksize\u001b[0m \u001b[0;32mor\u001b[0m \u001b[0miterator\u001b[0m\u001b[0;34m:\u001b[0m\u001b[0;34m\u001b[0m\u001b[0;34m\u001b[0m\u001b[0m\n",
            "\u001b[0;32m/usr/local/lib/python3.10/dist-packages/pandas/io/parsers/readers.py\u001b[0m in \u001b[0;36m__init__\u001b[0;34m(self, f, engine, **kwds)\u001b[0m\n\u001b[1;32m   1405\u001b[0m \u001b[0;34m\u001b[0m\u001b[0m\n\u001b[1;32m   1406\u001b[0m         \u001b[0mself\u001b[0m\u001b[0;34m.\u001b[0m\u001b[0mhandles\u001b[0m\u001b[0;34m:\u001b[0m \u001b[0mIOHandles\u001b[0m \u001b[0;34m|\u001b[0m \u001b[0;32mNone\u001b[0m \u001b[0;34m=\u001b[0m \u001b[0;32mNone\u001b[0m\u001b[0;34m\u001b[0m\u001b[0;34m\u001b[0m\u001b[0m\n\u001b[0;32m-> 1407\u001b[0;31m         \u001b[0mself\u001b[0m\u001b[0;34m.\u001b[0m\u001b[0m_engine\u001b[0m \u001b[0;34m=\u001b[0m \u001b[0mself\u001b[0m\u001b[0;34m.\u001b[0m\u001b[0m_make_engine\u001b[0m\u001b[0;34m(\u001b[0m\u001b[0mf\u001b[0m\u001b[0;34m,\u001b[0m \u001b[0mself\u001b[0m\u001b[0;34m.\u001b[0m\u001b[0mengine\u001b[0m\u001b[0;34m)\u001b[0m\u001b[0;34m\u001b[0m\u001b[0;34m\u001b[0m\u001b[0m\n\u001b[0m\u001b[1;32m   1408\u001b[0m \u001b[0;34m\u001b[0m\u001b[0m\n\u001b[1;32m   1409\u001b[0m     \u001b[0;32mdef\u001b[0m \u001b[0mclose\u001b[0m\u001b[0;34m(\u001b[0m\u001b[0mself\u001b[0m\u001b[0;34m)\u001b[0m \u001b[0;34m->\u001b[0m \u001b[0;32mNone\u001b[0m\u001b[0;34m:\u001b[0m\u001b[0;34m\u001b[0m\u001b[0;34m\u001b[0m\u001b[0m\n",
            "\u001b[0;32m/usr/local/lib/python3.10/dist-packages/pandas/io/parsers/readers.py\u001b[0m in \u001b[0;36m_make_engine\u001b[0;34m(self, f, engine)\u001b[0m\n\u001b[1;32m   1659\u001b[0m                 \u001b[0;32mif\u001b[0m \u001b[0;34m\"b\"\u001b[0m \u001b[0;32mnot\u001b[0m \u001b[0;32min\u001b[0m \u001b[0mmode\u001b[0m\u001b[0;34m:\u001b[0m\u001b[0;34m\u001b[0m\u001b[0;34m\u001b[0m\u001b[0m\n\u001b[1;32m   1660\u001b[0m                     \u001b[0mmode\u001b[0m \u001b[0;34m+=\u001b[0m \u001b[0;34m\"b\"\u001b[0m\u001b[0;34m\u001b[0m\u001b[0;34m\u001b[0m\u001b[0m\n\u001b[0;32m-> 1661\u001b[0;31m             self.handles = get_handle(\n\u001b[0m\u001b[1;32m   1662\u001b[0m                 \u001b[0mf\u001b[0m\u001b[0;34m,\u001b[0m\u001b[0;34m\u001b[0m\u001b[0;34m\u001b[0m\u001b[0m\n\u001b[1;32m   1663\u001b[0m                 \u001b[0mmode\u001b[0m\u001b[0;34m,\u001b[0m\u001b[0;34m\u001b[0m\u001b[0;34m\u001b[0m\u001b[0m\n",
            "\u001b[0;32m/usr/local/lib/python3.10/dist-packages/pandas/io/common.py\u001b[0m in \u001b[0;36mget_handle\u001b[0;34m(path_or_buf, mode, encoding, compression, memory_map, is_text, errors, storage_options)\u001b[0m\n\u001b[1;32m    857\u001b[0m         \u001b[0;32mif\u001b[0m \u001b[0mioargs\u001b[0m\u001b[0;34m.\u001b[0m\u001b[0mencoding\u001b[0m \u001b[0;32mand\u001b[0m \u001b[0;34m\"b\"\u001b[0m \u001b[0;32mnot\u001b[0m \u001b[0;32min\u001b[0m \u001b[0mioargs\u001b[0m\u001b[0;34m.\u001b[0m\u001b[0mmode\u001b[0m\u001b[0;34m:\u001b[0m\u001b[0;34m\u001b[0m\u001b[0;34m\u001b[0m\u001b[0m\n\u001b[1;32m    858\u001b[0m             \u001b[0;31m# Encoding\u001b[0m\u001b[0;34m\u001b[0m\u001b[0;34m\u001b[0m\u001b[0m\n\u001b[0;32m--> 859\u001b[0;31m             handle = open(\n\u001b[0m\u001b[1;32m    860\u001b[0m                 \u001b[0mhandle\u001b[0m\u001b[0;34m,\u001b[0m\u001b[0;34m\u001b[0m\u001b[0;34m\u001b[0m\u001b[0m\n\u001b[1;32m    861\u001b[0m                 \u001b[0mioargs\u001b[0m\u001b[0;34m.\u001b[0m\u001b[0mmode\u001b[0m\u001b[0;34m,\u001b[0m\u001b[0;34m\u001b[0m\u001b[0;34m\u001b[0m\u001b[0m\n",
            "\u001b[0;31mFileNotFoundError\u001b[0m: [Errno 2] No such file or directory: 'movies.csv'"
          ]
        }
      ],
      "source": [
        "movies_data = pd.read_csv('movies.csv',encoding = 'latin1')"
      ]
    },
    {
      "cell_type": "code",
      "execution_count": null,
      "id": "801244d8-1ad4-4fb4-8946-2f78b09130a2",
      "metadata": {
        "id": "801244d8-1ad4-4fb4-8946-2f78b09130a2"
      },
      "outputs": [],
      "source": [
        "movies_data.head()"
      ]
    },
    {
      "cell_type": "code",
      "execution_count": null,
      "id": "f7d24c85-8d5f-4a72-b23b-af66ccf7fe1b",
      "metadata": {
        "id": "f7d24c85-8d5f-4a72-b23b-af66ccf7fe1b"
      },
      "outputs": [],
      "source": [
        "movies_data.shape"
      ]
    },
    {
      "cell_type": "code",
      "execution_count": null,
      "id": "c37242be-85bc-4771-bace-df344d23e0d8",
      "metadata": {
        "id": "c37242be-85bc-4771-bace-df344d23e0d8"
      },
      "outputs": [],
      "source": [
        "movies_data = movies_data.drop(['Run Time','Writer'],axis = 1)\n",
        "movies_data.head()"
      ]
    },
    {
      "cell_type": "code",
      "execution_count": null,
      "id": "612b5b5e-1f73-48c0-9ef8-2a8ec9f1f110",
      "metadata": {
        "id": "612b5b5e-1f73-48c0-9ef8-2a8ec9f1f110"
      },
      "outputs": [],
      "source": [
        "movies_data['path'] = movies_data['path']"
      ]
    },
    {
      "cell_type": "code",
      "execution_count": null,
      "id": "066e5411-f9ae-4377-ab03-4e70a58186d1",
      "metadata": {
        "id": "066e5411-f9ae-4377-ab03-4e70a58186d1"
      },
      "outputs": [],
      "source": [
        "# Making a ID Column\n",
        "\n",
        "id_list= np.arange(11296)\n",
        "movies_data.insert(0, 'id', id_list)\n",
        "movies_data.head()"
      ]
    },
    {
      "cell_type": "code",
      "execution_count": null,
      "id": "fe1cd4a9-adbf-4f05-8562-31a10accc080",
      "metadata": {
        "id": "fe1cd4a9-adbf-4f05-8562-31a10accc080"
      },
      "outputs": [],
      "source": [
        "movies_data.isna().sum()"
      ]
    },
    {
      "cell_type": "code",
      "execution_count": null,
      "id": "f8b6f3df-a4e3-47a5-b7c7-4023e6c13f70",
      "metadata": {
        "id": "f8b6f3df-a4e3-47a5-b7c7-4023e6c13f70"
      },
      "outputs": [],
      "source": [
        "import re\n",
        "\n",
        "def generalise(text):\n",
        "    text = text.lower()\n",
        "    text = re.sub('[^a-z ]',' ',text)\n",
        "    return text"
      ]
    },
    {
      "cell_type": "code",
      "execution_count": null,
      "id": "faf457bc-f6a1-4124-8c03-3a9c87e246c0",
      "metadata": {
        "id": "faf457bc-f6a1-4124-8c03-3a9c87e246c0"
      },
      "outputs": [],
      "source": [
        "movies_data['Generes'] = movies_data['Generes'].apply(generalise)\n",
        "movies_data['Plot Kyeword'] = movies_data['Plot Kyeword'].apply(generalise)\n",
        "movies_data['Top 5 Casts'] = movies_data['Top 5 Casts'].apply(generalise)"
      ]
    },
    {
      "cell_type": "code",
      "execution_count": null,
      "id": "6f9a9cc7-987b-49e9-bba3-0a01a72741eb",
      "metadata": {
        "id": "6f9a9cc7-987b-49e9-bba3-0a01a72741eb"
      },
      "outputs": [],
      "source": [
        "movies_data.head()"
      ]
    },
    {
      "cell_type": "code",
      "execution_count": null,
      "id": "ad0c1eed-cf1f-4717-a755-f4fb5e78dc51",
      "metadata": {
        "id": "ad0c1eed-cf1f-4717-a755-f4fb5e78dc51"
      },
      "outputs": [],
      "source": [
        "combined_features = movies_data['Generes']+' '+movies_data['Plot Kyeword']+' '+movies_data['Overview']+' '+movies_data['Top 5 Casts']+' '+movies_data['Director']\n",
        "\n",
        "def test(input):\n",
        "    input = \" \".join(input.split())\n",
        "    return input\n",
        "\n",
        "combined_features = combined_features.apply(test)\n",
        "print(combined_features)"
      ]
    },
    {
      "cell_type": "code",
      "execution_count": null,
      "id": "f5bc7466-0c36-41cc-83d6-f84b0c9d59a6",
      "metadata": {
        "id": "f5bc7466-0c36-41cc-83d6-f84b0c9d59a6"
      },
      "outputs": [],
      "source": [
        "vectorizer = TfidfVectorizer()\n",
        "feature_vectors = vectorizer.fit_transform(combined_features)"
      ]
    },
    {
      "cell_type": "markdown",
      "id": "0b735f85-849d-41d6-9e9e-c8b0800a5be9",
      "metadata": {
        "id": "0b735f85-849d-41d6-9e9e-c8b0800a5be9"
      },
      "source": [
        "# Cosine Similarity"
      ]
    },
    {
      "cell_type": "code",
      "execution_count": null,
      "id": "6a0f2f7e-eb21-49db-89e5-06b9bf540d53",
      "metadata": {
        "id": "6a0f2f7e-eb21-49db-89e5-06b9bf540d53"
      },
      "outputs": [],
      "source": [
        "similarity = cosine_similarity(feature_vectors)"
      ]
    },
    {
      "cell_type": "code",
      "execution_count": null,
      "id": "d00e6e2c-d9e5-4644-828f-438d4426b6a2",
      "metadata": {
        "id": "d00e6e2c-d9e5-4644-828f-438d4426b6a2"
      },
      "outputs": [],
      "source": [
        "print(similarity)"
      ]
    },
    {
      "cell_type": "markdown",
      "id": "5b5a6f41-68dc-4cbe-8b6f-d9f05f69091e",
      "metadata": {
        "id": "5b5a6f41-68dc-4cbe-8b6f-d9f05f69091e"
      },
      "source": [
        "# Movie Recommendation System"
      ]
    },
    {
      "cell_type": "code",
      "execution_count": null,
      "id": "5d6d6787-57b1-4838-83af-83bf5e28771d",
      "metadata": {
        "id": "5d6d6787-57b1-4838-83af-83bf5e28771d"
      },
      "outputs": [],
      "source": [
        "movie_name = input(' Enter your favourite movie name : ')\n",
        "\n",
        "list_of_all_titles = movies_data['movie title'].tolist()\n",
        "\n",
        "find_close_match = difflib.get_close_matches(movie_name, list_of_all_titles)\n",
        "\n",
        "close_match = find_close_match[0]\n",
        "\n",
        "id_of_the_movie = movies_data[movies_data['movie title'] == close_match]['id'].values[0]\n",
        "\n",
        "similarity_score = list(enumerate(similarity[id_of_the_movie]))\n",
        "\n",
        "sorted_similar_movies = sorted(similarity_score, key = lambda x:x[1], reverse = True)\n",
        "\n",
        "print('Movies suggested for you : \\n')\n",
        "\n",
        "i = 1\n",
        "k = 1\n",
        "\n",
        "for movie in sorted_similar_movies:\n",
        "    if(k == 1):\n",
        "        k+=1\n",
        "        continue\n",
        "    index = movie[0]\n",
        "    title_from_index = movies_data[movies_data.id==index]['movie title'].values[0]\n",
        "    if (i<11):\n",
        "        print(i,'.',title_from_index)\n",
        "        i+=1"
      ]
    }
  ],
  "metadata": {
    "kernelspec": {
      "display_name": "Python 3 (ipykernel)",
      "language": "python",
      "name": "python3"
    },
    "language_info": {
      "codemirror_mode": {
        "name": "ipython",
        "version": 3
      },
      "file_extension": ".py",
      "mimetype": "text/x-python",
      "name": "python",
      "nbconvert_exporter": "python",
      "pygments_lexer": "ipython3",
      "version": "3.12.1"
    },
    "colab": {
      "provenance": []
    }
  },
  "nbformat": 4,
  "nbformat_minor": 5
}